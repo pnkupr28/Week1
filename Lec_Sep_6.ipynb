{
 "cells": [
  {
   "cell_type": "markdown",
   "metadata": {},
   "source": [
    "# This is Markdown cell"
   ]
  },
  {
   "cell_type": "markdown",
   "metadata": {},
   "source": [
    "# Heading 1\n",
    "\n",
    "## Heading 2\n",
    "\n",
    "### Heading 3\n",
    "\n",
    "*bold text* _italic text_\n",
    "\n",
    "\n",
    "`x = 10`\n",
    "\n",
    "Following code block will not be formatted according to Python\n",
    "\n",
    "```\n",
    "def add(num_1, num_2):\n",
    "    return num_1 + num_2\n",
    "```\n",
    "\n",
    "But this block will be because of the `python` keyword\n",
    "\n",
    "```python\n",
    "def add(num_1, num_2):\n",
    "    return num_1 + num_2\n",
    "```"
   ]
  },
  {
   "cell_type": "markdown",
   "metadata": {},
   "source": [
    "# Code\n",
    "\n",
    "The following section contains code for your Python cell"
   ]
  },
  {
   "cell_type": "markdown",
   "metadata": {},
   "source": [
    "## Variables and Types\n",
    "\n",
    "Variables allows us to store values and use them for computation later on. To create any variable in python use the following template:\n",
    "\n",
    "```python\n",
    "variable_name: type = value\n",
    "```\n",
    "\n",
    "* `type` of the variable defines the types of value it stores. In Python (and other programming languages), there are some primitive types of information that you store in a file. \n",
    "\n",
    "Some of the fundamental primitive data types are: `int`, `float`, `str`, and `bool`.\n",
    "\n",
    "\n",
    "* `int` stands for integers and their range is from `-inf` to `inf` (actually in Python there is a limit to the largest number but that is for another time) . Examples are - 23, -15, 0, 1\n",
    "\n",
    "* `float` stands for floating-point value and is used to represent real-numbers or numbers with a decimal point.\n",
    "\n",
    "* `str` stands for strings and is used to store a single or a sequence of character\n"
   ]
  },
  {
   "cell_type": "code",
   "execution_count": null,
   "metadata": {},
   "outputs": [],
   "source": [
    "x: int = 5              # Create a variable name `x` of type `int` with a value of 5\n",
    "y: float = 1.5          # Create a variable name `y` of type `float` with a value of 1.5\n",
    "z: str = \"4\"            # Create a variable name `z` of type `str` with a value of \"4\""
   ]
  },
  {
   "cell_type": "markdown",
   "metadata": {},
   "source": [
    "**NOTE** - Providing the type is not necessary. Python does not check if you are actually storing that value or not. You can try in the following block to create a variable of one type and store value of a completely different type. However, as discussed in class, we are not writing code only for the computer, we are writing it for our future selves and others, therefore it is necessary to follow through your intention."
   ]
  },
  {
   "cell_type": "markdown",
   "metadata": {},
   "source": [
    "## Expressions\n",
    "\n",
    "In the following section, we use variables to create expressions and do some simple arithmetic computations. Using Python we can run simple arithmetic operations such as - `+`, `-`, `*`, `/`, `**`, and `%`."
   ]
  },
  {
   "cell_type": "code",
   "execution_count": null,
   "metadata": {},
   "outputs": [],
   "source": [
    "z = x + (y ** 2)\n",
    "print(z)"
   ]
  },
  {
   "cell_type": "markdown",
   "metadata": {},
   "source": [
    "You can use `print` to print the value of any expression"
   ]
  },
  {
   "cell_type": "code",
   "execution_count": null,
   "metadata": {},
   "outputs": [],
   "source": [
    "print(z)"
   ]
  },
  {
   "cell_type": "code",
   "execution_count": null,
   "metadata": {},
   "outputs": [],
   "source": [
    "print(y - x)\n",
    "print(y * x)"
   ]
  },
  {
   "cell_type": "code",
   "execution_count": null,
   "metadata": {},
   "outputs": [],
   "source": [
    "print(x ** 2)"
   ]
  },
  {
   "cell_type": "code",
   "execution_count": null,
   "metadata": {},
   "outputs": [],
   "source": [
    "print(2 / 3)"
   ]
  },
  {
   "cell_type": "markdown",
   "metadata": {},
   "source": [
    "But you can also simply run the cell and get the value of the expression"
   ]
  },
  {
   "cell_type": "code",
   "execution_count": null,
   "metadata": {},
   "outputs": [],
   "source": [
    "2 / 3"
   ]
  },
  {
   "cell_type": "markdown",
   "metadata": {},
   "source": [
    "`%` is the mod operator and returns the remainder left when the dividend is divided by the divisor"
   ]
  },
  {
   "cell_type": "code",
   "execution_count": null,
   "metadata": {},
   "outputs": [],
   "source": [
    "print(10 % 2)              # Returns 0\n",
    "print(10 % 3)              # Returns 1"
   ]
  },
  {
   "cell_type": "markdown",
   "metadata": {},
   "source": [
    "There are two parts of an expression - `operators` and `operands`. \n",
    "\n",
    "`operators` are functions that take in values and perform designated computation. \n",
    "`operands` are the values we provide to the `operators`.\n",
    "\n",
    "For example in the expression `x + y`, `+` is the `operator` and `x` and `y` are the operands\n"
   ]
  },
  {
   "cell_type": "markdown",
   "metadata": {},
   "source": [
    "## Boolean Types\n",
    "\n",
    "Boolean types are very fundamental to computing, there are only two values in a boolean type - True/False - yes/no - on/off - 1/0\n"
   ]
  },
  {
   "cell_type": "code",
   "execution_count": null,
   "metadata": {},
   "outputs": [],
   "source": [
    "True"
   ]
  },
  {
   "cell_type": "code",
   "execution_count": null,
   "metadata": {},
   "outputs": [],
   "source": [
    "False"
   ]
  },
  {
   "cell_type": "markdown",
   "metadata": {},
   "source": [
    "Apart from `True` and `False` values, you can also have boolean interpretation from other types.\n",
    "\n",
    "In `int`, any value except 0 is considered as `True` and 0 is considered as `False`.\n",
    "Similarly for `float`, 0.0 is considered `False` and every other value is considered `True`\n",
    "Lastly in `str`, \"\", i.e., an empty string without spaces is considered `False` and everything else is `True`"
   ]
  },
  {
   "cell_type": "code",
   "execution_count": null,
   "metadata": {},
   "outputs": [],
   "source": [
    "a = \" \"\n",
    "\n",
    "not a"
   ]
  },
  {
   "cell_type": "code",
   "execution_count": null,
   "metadata": {},
   "outputs": [],
   "source": [
    "not (x * y + (z + a) ** 4 )"
   ]
  },
  {
   "cell_type": "code",
   "execution_count": null,
   "metadata": {},
   "outputs": [],
   "source": [
    "a:float = 5.0\n",
    "b:str = \"5\"\n"
   ]
  },
  {
   "cell_type": "markdown",
   "metadata": {},
   "source": [
    "Apart from arithmetic operators, there are also logical operators - `and`, `or`, and `not`. These operators perform operations on boolean values. "
   ]
  },
  {
   "cell_type": "code",
   "execution_count": null,
   "metadata": {},
   "outputs": [],
   "source": [
    "True and False"
   ]
  },
  {
   "cell_type": "code",
   "execution_count": null,
   "metadata": {},
   "outputs": [],
   "source": [
    "True or False"
   ]
  },
  {
   "cell_type": "code",
   "execution_count": null,
   "metadata": {},
   "outputs": [],
   "source": [
    "not True"
   ]
  },
  {
   "cell_type": "markdown",
   "metadata": {},
   "source": [
    "Then we have the comparison operators that allow us to compare two values of the same type"
   ]
  },
  {
   "cell_type": "code",
   "execution_count": null,
   "metadata": {},
   "outputs": [],
   "source": [
    "True == False # Not same value\n"
   ]
  },
  {
   "cell_type": "code",
   "execution_count": null,
   "metadata": {},
   "outputs": [],
   "source": [
    "True == True # These are same value"
   ]
  },
  {
   "cell_type": "code",
   "execution_count": null,
   "metadata": {},
   "outputs": [],
   "source": [
    "False == False # Same value"
   ]
  },
  {
   "cell_type": "markdown",
   "metadata": {},
   "source": [
    "The following is a boolean expression, which we will explore in detail when we look at conditionals. If the variable names confuse you. Replace the variables with generic names such as `x`, `y`, or `z`. Then evaluate the expression and it should make sense"
   ]
  },
  {
   "cell_type": "code",
   "execution_count": 54,
   "metadata": {},
   "outputs": [],
   "source": [
    "raining: bool = False\n",
    "have_a_ride: bool = False\n",
    "\n",
    "going_to_a_party: bool = (not raining) or (have_a_ride)\n",
    "\n",
    "print(going_to_a_party)"
   ]
  },
  {
   "cell_type": "code",
   "execution_count": null,
   "metadata": {},
   "outputs": [],
   "source": [
    "a + b"
   ]
  },
  {
   "cell_type": "code",
   "execution_count": null,
   "metadata": {},
   "outputs": [],
   "source": [
    "a == b"
   ]
  },
  {
   "cell_type": "code",
   "execution_count": null,
   "metadata": {},
   "outputs": [],
   "source": [
    "a + b"
   ]
  }
 ],
 "metadata": {
  "kernelspec": {
   "display_name": "Python 3",
   "language": "python",
   "name": "python3"
  },
  "language_info": {
   "codemirror_mode": {
    "name": "ipython",
    "version": 3
   },
   "file_extension": ".py",
   "mimetype": "text/x-python",
   "name": "python",
   "nbconvert_exporter": "python",
   "pygments_lexer": "ipython3",
   "version": "3.9.6"
  }
 },
 "nbformat": 4,
 "nbformat_minor": 2
}
